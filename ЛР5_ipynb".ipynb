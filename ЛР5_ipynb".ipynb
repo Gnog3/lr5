{
  "nbformat": 4,
  "nbformat_minor": 0,
  "metadata": {
    "colab": {
      "provenance": [],
      "collapsed_sections": [
        "JAk52n_uiM5u",
        "ed8UJaMriy-S",
        "cG8yCIk4izL2"
      ],
      "toc_visible": true,
      "include_colab_link": true
    },
    "kernelspec": {
      "name": "python3",
      "display_name": "Python 3"
    },
    "language_info": {
      "name": "python"
    }
  },
  "cells": [
    {
      "cell_type": "markdown",
      "metadata": {
        "id": "view-in-github",
        "colab_type": "text"
      },
      "source": [
        "<a href=\"https://colab.research.google.com/github/Gnog3/lr5/blob/main/%D0%9B%D0%A05_ipynb%22.ipynb\" target=\"_parent\"><img src=\"https://colab.research.google.com/assets/colab-badge.svg\" alt=\"Open In Colab\"/></a>"
      ]
    },
    {
      "cell_type": "markdown",
      "source": [
        "Лабораторная работа №5 \"Построение и исследование функций\""
      ],
      "metadata": {
        "id": "QBuEszoXjHAH"
      }
    },
    {
      "cell_type": "markdown",
      "source": [
        "* **Замечание 1**: ознакомьтесь с библиотекой SymPy, там есть аналогичные функции библиотеки math.\n",
        "* **Замечание 2**: если не хватает рускоязычной документации, посмотрите англоязычную на официальных сайтах библиотек.\n",
        "\n",
        "\n"
      ],
      "metadata": {
        "id": "0vgtbjfSqQ4n"
      }
    },
    {
      "cell_type": "markdown",
      "source": [
        "# Теория"
      ],
      "metadata": {
        "id": "Y7vZcCJ8iMe0"
      }
    },
    {
      "cell_type": "markdown",
      "source": [
        "Сегодня мы познакомимся с несколькими библиотеками для построения и исследования математических функций."
      ],
      "metadata": {
        "id": "O8wt1STMjP7X"
      }
    },
    {
      "cell_type": "markdown",
      "source": [
        "[Matplotlib](https://pyprog.pro/mpl/mpl_short_guide.html) - для построения графиков.\n",
        "[Numpy](https://pyprog.pro/reference_manual.html) - для работы с массивами, векторами и матрицами.\n",
        "[SymPy](https://pythonru.com/biblioteki/sympy-v-python) - для работы с пределами, производными и интегралами."
      ],
      "metadata": {
        "id": "ci4XZb7mkO1D"
      }
    },
    {
      "cell_type": "markdown",
      "source": [
        "Импортируем библиотеки."
      ],
      "metadata": {
        "id": "bejp13CpnHGY"
      }
    },
    {
      "cell_type": "code",
      "source": [
        "#запустите этот блок обязательно\n",
        "import matplotlib.pyplot as plt\n",
        "import numpy as np\n",
        "import sympy as sym"
      ],
      "metadata": {
        "id": "gX136g2amUCG"
      },
      "execution_count": null,
      "outputs": []
    },
    {
      "cell_type": "markdown",
      "source": [
        "Попробуем нарисовать прямую. Для того чтобы нарисовать прямую нам достаточно использовать функцию plot() и передать в нее два массива."
      ],
      "metadata": {
        "id": "EY1_GFKBnh8u"
      }
    },
    {
      "cell_type": "code",
      "source": [
        "x = [0,1,2,3,4,5,6,7,8,9,10]\n",
        "y = [0,1,2,3,4,5,6,7,8,9,10]\n",
        "plt.plot(x,y)\n",
        "plt.show()"
      ],
      "metadata": {
        "colab": {
          "base_uri": "https://localhost:8080/"
        },
        "id": "VuJxYUJunxD0",
        "outputId": "da0b77b1-e03b-473e-8335-1de238c41be6"
      },
      "execution_count": null,
      "outputs": [
        {
          "output_type": "display_data",
          "data": {
            "text/plain": [
              "<Figure size 432x288 with 1 Axes>"
            ],
            "image/png": "[encoded data removed]"
          },
          "metadata": {
            "needs_background": "light"
          }
        }
      ]
    },
    {
      "cell_type": "markdown",
      "source": [
        "Метод plt.plot(), в простейшем случае, принимает один аргумент - последовательность чисел, которая соответствует оси ординат (y), ось абсцис (x) строится автоматически от 0 до n, где n - это длинна массива ординат."
      ],
      "metadata": {
        "id": "nvGZRomUnwlu"
      }
    },
    {
      "cell_type": "markdown",
      "source": [
        "Перейдем к массивам. В библиотеке NumPy содержится огромное множество функция для работы с массивами. Начнем с простого, а именно с создания."
      ],
      "metadata": {
        "id": "YwoYLvB5o7gg"
      }
    },
    {
      "cell_type": "code",
      "source": [
        "x = np.array([1,2,3,4,5])\n",
        "print(x)"
      ],
      "metadata": {
        "colab": {
          "base_uri": "https://localhost:8080/"
        },
        "id": "mHtxL3hxvxSX",
        "outputId": "edc5218b-ae26-4a0e-d292-2a7ecf0b08c6"
      },
      "execution_count": null,
      "outputs": [
        {
          "output_type": "stream",
          "name": "stdout",
          "text": [
            "[1 2 3 4 5]\n"
          ]
        }
      ]
    },
    {
      "cell_type": "markdown",
      "source": [
        "Функция np.array() нужна для создания массива NumPy. Так же существуют функции np.ones() - для создания массива состоящего из едениц, np.zeros() - для создания массива состоящего из нулей, np.linspace() - для создания массива состоящего из последовательности, np.arange() - для создания массива до какого либо числа."
      ],
      "metadata": {
        "id": "HBOGanYRv56m"
      }
    },
    {
      "cell_type": "code",
      "source": [
        "ones = np.ones((1,5))\n",
        "zeros = np.zeros((1,5))\n",
        "lin = np.linspace(0,10, 5)\n",
        "arange = np.arange(5)\n",
        "print(ones)\n",
        "print(zeros)\n",
        "print(lin)\n",
        "print(arange)"
      ],
      "metadata": {
        "id": "kG21FZvTw13P"
      },
      "execution_count": null,
      "outputs": []
    },
    {
      "cell_type": "markdown",
      "source": [
        "Над массивами можно производить арифметические операции."
      ],
      "metadata": {
        "id": "7IZrD1FEylay"
      }
    },
    {
      "cell_type": "code",
      "source": [
        "a = np.array([1,2])\n",
        "b = np.array([3,4])\n",
        "print('сумма ', a+b)\n",
        "print('разница ', a-b)\n",
        "print('умножение ', a*b)\n",
        "print('деление ', b/a)\n",
        "print('умножение на число ', a*2)"
      ],
      "metadata": {
        "id": "Cl_UGrvuyyhl"
      },
      "execution_count": null,
      "outputs": []
    },
    {
      "cell_type": "markdown",
      "source": [
        "Так же есть различные функции агрегирования: min(), max(), sum(), mean(), prod(), std()."
      ],
      "metadata": {
        "id": "fQRLWDZ5zpXH"
      }
    },
    {
      "cell_type": "code",
      "source": [
        "a = np.arange(10)\n",
        "print('минимум ', np.min(a))\n",
        "print('максимум ', np.max(a))\n",
        "print('сумма ', np.sum(a))\n",
        "print('среднее арифметическое ', np.mean(a))\n",
        "print('умножение ', np.prod(a))\n",
        "print('среднеквадратичное отклонение', np.std(a))"
      ],
      "metadata": {
        "id": "Fcxh8igAz90B"
      },
      "execution_count": null,
      "outputs": []
    },
    {
      "cell_type": "markdown",
      "source": [
        "Функции так же действительны и для многомерных массивов. Для больше ознакомления с линейной алгеброй перейдите по гиперссылке NumPy и ознакомьтесь с модулем Linalg(6. Линейная алгербра)."
      ],
      "metadata": {
        "id": "QSaZB0fj9XA4"
      }
    },
    {
      "cell_type": "markdown",
      "source": [
        "Перейдем к последнему модулу SymPy. От ряда других библиотек есть характерное отличие. Можно в явном виде задать символьные переменные и работать с ними."
      ],
      "metadata": {
        "id": "I91fwJmr14vu"
      }
    },
    {
      "cell_type": "code",
      "source": [
        "x = sym.Symbol('x')\n",
        "y = sym.Symbol('y')\n",
        "\n",
        "x + y + x - y"
      ],
      "metadata": {
        "id": "lLnAVbEe2S0Y"
      },
      "execution_count": null,
      "outputs": []
    },
    {
      "cell_type": "markdown",
      "source": [
        "Начнем считать пределы, производные и интегралы."
      ],
      "metadata": {
        "id": "LvwJRscj2x5F"
      }
    },
    {
      "cell_type": "markdown",
      "source": [
        "Для вычисления пределов в SymPy предусмотрен очень простой синтаксис, а именно limit(function, variable, point). Например, если вы хотите вычислить предел функции f(x), где x -> 0, то надо написать limit(f(x), x, 0)."
      ],
      "metadata": {
        "id": "EVBFvY_w275L"
      }
    },
    {
      "cell_type": "code",
      "source": [
        "sym.limit(sym.sin(x) / x, x, 0) # результат 1"
      ],
      "metadata": {
        "id": "aYnekg8523Y8"
      },
      "execution_count": null,
      "outputs": []
    },
    {
      "cell_type": "markdown",
      "source": [
        "Также можно вычислять пределы, которые стремятся к бесконечности."
      ],
      "metadata": {
        "id": "BcWc-xT73Crs"
      }
    },
    {
      "cell_type": "code",
      "source": [
        "sym.limit(x ** 2, x, 0) # результат 0"
      ],
      "metadata": {
        "id": "lxmb6ATu3Fhv"
      },
      "execution_count": null,
      "outputs": []
    },
    {
      "cell_type": "markdown",
      "source": [
        "Для дифференцирования выражений в SymPy есть функция diff(func, var). Ниже даны примеры ее работы."
      ],
      "metadata": {
        "id": "Zlsjqtkt7IeP"
      }
    },
    {
      "cell_type": "code",
      "source": [
        "sym.diff(sym.tan(x), x)"
      ],
      "metadata": {
        "colab": {
          "base_uri": "https://localhost:8080/"
        },
        "id": "AuAfwWrP7JMe",
        "outputId": "7f6ebb31-5458-4e10-c2e7-667a1a278e35"
      },
      "execution_count": null,
      "outputs": [
        {
          "output_type": "execute_result",
          "data": {
            "text/plain": [
              "tan(x)**2 + 1"
            ],
            "text/latex": "$\\displaystyle \\tan^{2}{\\left(x \\right)} + 1$"
          },
          "metadata": {},
          "execution_count": 29
        }
      ]
    },
    {
      "cell_type": "markdown",
      "source": [
        "Проверим результат последней функции при помощи определения производной через предел. "
      ],
      "metadata": {
        "id": "8jw4Nab57UQa"
      }
    },
    {
      "cell_type": "code",
      "source": [
        "sym.limit((sym.tan(x + y) - sym.tan(x)) / y, y, 0)"
      ],
      "metadata": {
        "id": "YSh4ZkRt8HA4"
      },
      "execution_count": null,
      "outputs": []
    },
    {
      "cell_type": "markdown",
      "source": [
        "Для разложения выражения в ряд Тейлора используется следующий синтаксис: series(expr, var)."
      ],
      "metadata": {
        "id": "hbnnO34l8KJz"
      }
    },
    {
      "cell_type": "code",
      "source": [
        "sym.series(sym.cos(x), x)"
      ],
      "metadata": {
        "colab": {
          "base_uri": "https://localhost:8080/"
        },
        "id": "S5EeeSJr8Nyx",
        "outputId": "1791f86f-c276-429e-ab3c-2ef1c41df44a"
      },
      "execution_count": null,
      "outputs": [
        {
          "output_type": "execute_result",
          "data": {
            "text/plain": [
              "1 - x**2/2 + x**4/24 + O(x**6)"
            ],
            "text/latex": "$\\displaystyle 1 - \\frac{x^{2}}{2} + \\frac{x^{4}}{24} + O\\left(x^{6}\\right)$"
          },
          "metadata": {},
          "execution_count": 30
        }
      ]
    },
    {
      "cell_type": "markdown",
      "source": [
        "В SymPy реализована поддержка определенных и неопределенных интегралов при помощи функции integrate(). Интегрировать можно элементарные, трансцендентные и специальные функции. Интегрирование осуществляется с помощью расширенного алгоритма Риша-Нормана. Также используются различные эвристики и шаблоны."
      ],
      "metadata": {
        "id": "bXzuQtrH8Y60"
      }
    },
    {
      "cell_type": "code",
      "source": [
        "print(sym.integrate(x**3, (x, -1, 1))) # результат 0\n",
        "print(sym.integrate(sym.sin(x), (x, 0, sym.pi / 2))) # результат 1\n",
        "print(sym.integrate(sym.cos(x), (x, -sym.pi / 2, sym.pi / 2))) # результат 2"
      ],
      "metadata": {
        "colab": {
          "base_uri": "https://localhost:8080/"
        },
        "id": "N6e6S4Ce8Zqr",
        "outputId": "ca0e77c6-fc6c-467a-f0c1-34949921c008"
      },
      "execution_count": null,
      "outputs": [
        {
          "output_type": "stream",
          "name": "stdout",
          "text": [
            "0\n",
            "1\n",
            "2\n"
          ]
        }
      ]
    },
    {
      "cell_type": "markdown",
      "source": [
        "Также можно вычислять определенные интегралы с бесконечными пределами интегрирования (несобственные интегралы)."
      ],
      "metadata": {
        "id": "pHo_k9-78zbP"
      }
    },
    {
      "cell_type": "code",
      "source": [
        "sym.integrate(sym.exp(-x), (x, 0, sym.oo)) # результат 1"
      ],
      "metadata": {
        "id": "Kx4JylH-80J6"
      },
      "execution_count": null,
      "outputs": []
    },
    {
      "cell_type": "markdown",
      "source": [
        "При помощи SymPy можно решать алгебраические уравнения с одной или несколькими переменными. Для этого используется функция solveset()."
      ],
      "metadata": {
        "id": "TscSXvvV86Tv"
      }
    },
    {
      "cell_type": "code",
      "source": [
        "sym.solveset(x ** 4 - 1, x) # результат {−1,1,−i,i}"
      ],
      "metadata": {
        "colab": {
          "base_uri": "https://localhost:8080/"
        },
        "id": "H36lX_JN87HY",
        "outputId": "dd8e8478-80f0-4c23-ebba-5aa538f99c51"
      },
      "execution_count": null,
      "outputs": [
        {
          "output_type": "execute_result",
          "data": {
            "text/plain": [
              "FiniteSet(-1, 1, I, -I)"
            ],
            "text/latex": "$\\displaystyle \\left\\{-1, 1, - i, i\\right\\}$"
          },
          "metadata": {},
          "execution_count": 34
        }
      ]
    },
    {
      "cell_type": "markdown",
      "source": [
        "SymPy способна решать широкий класс полиномиальных уравнений. Также при помощи данной библиотеки можно решать и системы уравнений. При этом переменные, относительно которых должна быть разрешена система, передаются в виде кортежа во втором аргументе функции solve(), которая используется для таких задач."
      ],
      "metadata": {
        "id": "BAbar9QL9Dvw"
      }
    },
    {
      "cell_type": "code",
      "source": [
        "solution = sym.solve((x + 5 * y - 2, -3 * x + 6 * y - 15), (x, y))\n",
        "solution[x], solution[y] # результат (-3, 1) "
      ],
      "metadata": {
        "colab": {
          "base_uri": "https://localhost:8080/"
        },
        "id": "u13ku3hO9Eje",
        "outputId": "a1c0f1c8-4c07-4521-c287-5dcd15648263"
      },
      "execution_count": null,
      "outputs": [
        {
          "output_type": "execute_result",
          "data": {
            "text/plain": [
              "(-3, 1)"
            ]
          },
          "metadata": {},
          "execution_count": 35
        }
      ]
    },
    {
      "cell_type": "markdown",
      "source": [
        "# Примерные заданий"
      ],
      "metadata": {
        "id": "P_jiJ4i8_E8S"
      }
    },
    {
      "cell_type": "markdown",
      "source": [
        "Напишите программу которая выводит график функции $y=kx+b$. Ввод k,x и b производится с клавиатуры."
      ],
      "metadata": {
        "id": "Hu09Swey_JYU"
      }
    },
    {
      "cell_type": "code",
      "source": [
        "import matplotlib.pyplot as plt\n",
        "import numpy as np\n",
        "\n",
        "k = int(input())\n",
        "x = np.arange(int(input()))\n",
        "b = int(input())\n",
        "y = k*x+b\n",
        "fig, ax = plt.subplots()\n",
        "ax.plot(x,y)\n",
        "ax.grid()\n",
        "plt.show"
      ],
      "metadata": {
        "colab": {
          "base_uri": "https://localhost:8080/",
          "height": 334
        },
        "id": "llrFfBHyAuGs",
        "outputId": "14bcf330-d34b-4ef5-acef-c285cd45552b"
      },
      "execution_count": null,
      "outputs": [
        {
          "name": "stdout",
          "output_type": "stream",
          "text": [
            "2\n",
            "4\n",
            "0\n"
          ]
        },
        {
          "output_type": "execute_result",
          "data": {
            "text/plain": [
              "<function matplotlib.pyplot.show(*args, **kw)>"
            ]
          },
          "metadata": {},
          "execution_count": 42
        },
        {
          "output_type": "display_data",
          "data": {
            "text/plain": [
              "<Figure size 432x288 with 1 Axes>"
            ],
            "image/png": "[encoded data removed]"
          },
          "metadata": {
            "needs_background": "light"
          }
        }
      ]
    },
    {
      "cell_type": "markdown",
      "source": [
        "Найти до четвертой производной функции $y=x^3+2x^3+x+4$. Вывести все производные полученные производные."
      ],
      "metadata": {
        "id": "G0vjJghdC3Bq"
      }
    },
    {
      "cell_type": "code",
      "source": [
        "import matplotlib.pyplot as plt\n",
        "import sympy as sym\n",
        "\n",
        "x = sym.symbols('x')\n",
        "for i in range(4):\n",
        "  diff = sym.diff(x**3+2*x**2+3*x+4, x, i+1)\n",
        "  print(f'{i}ая производная {diff}')"
      ],
      "metadata": {
        "colab": {
          "base_uri": "https://localhost:8080/"
        },
        "id": "2tkyU5d4GW5e",
        "outputId": "ef24864a-69d4-4296-f4a9-c0c9c4582742"
      },
      "execution_count": null,
      "outputs": [
        {
          "output_type": "stream",
          "name": "stdout",
          "text": [
            "0ая производная 3*x**2 + 4*x + 3\n",
            "1ая производная 2*(3*x + 2)\n",
            "2ая производная 6\n",
            "3ая производная 0\n"
          ]
        }
      ]
    },
    {
      "cell_type": "markdown",
      "source": [
        "Найти экстремумы функции $y=x^2(x-2)^2$."
      ],
      "metadata": {
        "id": "-VoDR5ucSgV9"
      }
    },
    {
      "cell_type": "code",
      "source": [
        "import sympy as sym\n",
        "from sympy.plotting import plot\n",
        "\n",
        "x = np.arange(10)\n",
        "x_symbol = sym.symbols('x')\n",
        "y = x_symbol**2*(x_symbol-2)**2\n",
        "diff_y = sym.diff(y,x_symbol)\n",
        "dots = sym.solve(diff_y,x_symbol)\n",
        "print('Первая производная: ',diff_y)\n",
        "print('Точки :', dots)\n",
        "\n",
        "plot2 = plot(y)"
      ],
      "metadata": {
        "colab": {
          "base_uri": "https://localhost:8080/",
          "height": 331
        },
        "id": "OVlQuAL9dGgh",
        "outputId": "124c9bcc-b414-4aeb-bddd-c71820f06cff"
      },
      "execution_count": null,
      "outputs": [
        {
          "output_type": "stream",
          "name": "stdout",
          "text": [
            "Первая производная:  x**2*(2*x - 4) + 2*x*(x - 2)**2\n",
            "Точки : [0, 1, 2]\n"
          ]
        },
        {
          "output_type": "display_data",
          "data": {
            "text/plain": [
              "<Figure size 432x288 with 1 Axes>"
            ],
            "image/png": "[encoded data removed]"
          },
          "metadata": {
            "needs_background": "light"
          }
        }
      ]
    },
    {
      "cell_type": "markdown",
      "source": [
        "# Уровень А"
      ],
      "metadata": {
        "id": "JAk52n_uiM5u"
      }
    },
    {
      "cell_type": "markdown",
      "source": [
        "Напишите программу которая выводит график функции $y={x^2}+b$ . Ввод x и b производится с клавиатуры."
      ],
      "metadata": {
        "id": "mmi11IGrir9E"
      }
    },
    {
      "cell_type": "code",
      "source": [],
      "metadata": {
        "id": "i3sbqRDKisTI"
      },
      "execution_count": null,
      "outputs": []
    },
    {
      "cell_type": "markdown",
      "source": [
        "Найти вторую производную $7^{5x}$."
      ],
      "metadata": {
        "id": "d2fpB7MUiskl"
      }
    },
    {
      "cell_type": "code",
      "source": [],
      "metadata": {
        "id": "vRPMg2pfis1M"
      },
      "execution_count": null,
      "outputs": []
    },
    {
      "cell_type": "markdown",
      "source": [
        "Найти до третьей производной функции $y=\\frac{lnx}{x^2}$."
      ],
      "metadata": {
        "id": "3SgcjWswitKT"
      }
    },
    {
      "cell_type": "code",
      "source": [],
      "metadata": {
        "id": "fULt25sditaa"
      },
      "execution_count": null,
      "outputs": []
    },
    {
      "cell_type": "markdown",
      "source": [
        "Напишите программу которая выводи график функции $y=sinx+cosx$."
      ],
      "metadata": {
        "id": "xGS3MtdQitvG"
      }
    },
    {
      "cell_type": "code",
      "source": [],
      "metadata": {
        "id": "6ph07UOziuBP"
      },
      "execution_count": null,
      "outputs": []
    },
    {
      "cell_type": "markdown",
      "source": [
        "Найти до третьей производной функции $y=\\frac{1}{x}$."
      ],
      "metadata": {
        "id": "siPvgH9miuTG"
      }
    },
    {
      "cell_type": "code",
      "source": [],
      "metadata": {
        "id": "F2oiWfBmiukn"
      },
      "execution_count": null,
      "outputs": []
    },
    {
      "cell_type": "markdown",
      "source": [
        "# Уровень B"
      ],
      "metadata": {
        "id": "ed8UJaMriy-S"
      }
    },
    {
      "cell_type": "markdown",
      "source": [
        "Напишите программу который выводит график функции $y=cosx$."
      ],
      "metadata": {
        "id": "PDvRbsNfiy-Z"
      }
    },
    {
      "cell_type": "code",
      "source": [],
      "metadata": {
        "id": "ObmPjCbBiy-a"
      },
      "execution_count": null,
      "outputs": []
    },
    {
      "cell_type": "markdown",
      "source": [
        "Найти экстремумы функции $y=2x^3+3x^2-5$."
      ],
      "metadata": {
        "id": "RksVXHVPiy-a"
      }
    },
    {
      "cell_type": "code",
      "source": [],
      "metadata": {
        "id": "oEqn03heiy-a"
      },
      "execution_count": null,
      "outputs": []
    },
    {
      "cell_type": "markdown",
      "source": [
        "Найти до четвертой производной функции $y=xln(1-3x)$."
      ],
      "metadata": {
        "id": "ZZ_0w90riy-b"
      }
    },
    {
      "cell_type": "code",
      "source": [],
      "metadata": {
        "id": "cTBgN14eiy-b"
      },
      "execution_count": null,
      "outputs": []
    },
    {
      "cell_type": "markdown",
      "source": [
        "Найти до третьей производной фунции $y=\\frac{1}{x}sin2x$."
      ],
      "metadata": {
        "id": "GeN_ajCLiy-b"
      }
    },
    {
      "cell_type": "code",
      "source": [],
      "metadata": {
        "id": "WUw1XJ_siy-b"
      },
      "execution_count": null,
      "outputs": []
    },
    {
      "cell_type": "markdown",
      "source": [
        "Напишите программу которая выводит график функции $y=x^{-3}$."
      ],
      "metadata": {
        "id": "5UnuWfQ6iy-b"
      }
    },
    {
      "cell_type": "code",
      "source": [],
      "metadata": {
        "id": "5dC2pjyOiy-c"
      },
      "execution_count": null,
      "outputs": []
    },
    {
      "cell_type": "markdown",
      "source": [
        "# Уровень C"
      ],
      "metadata": {
        "id": "cG8yCIk4izL2"
      }
    },
    {
      "cell_type": "markdown",
      "source": [
        "Найти до пятой производной функции $y=(2x^2-7)ln(x-1)$."
      ],
      "metadata": {
        "id": "mWn_teN_izL3"
      }
    },
    {
      "cell_type": "code",
      "source": [],
      "metadata": {
        "id": "YEb-eIkjizL3"
      },
      "execution_count": null,
      "outputs": []
    },
    {
      "cell_type": "markdown",
      "source": [
        "Напишите программу которая выводит график функции $y=(2x+1)^2(2x-1)^2$."
      ],
      "metadata": {
        "id": "_PuJ2lZwizL3"
      }
    },
    {
      "cell_type": "code",
      "source": [],
      "metadata": {
        "id": "6WOb2zhkizL3"
      },
      "execution_count": null,
      "outputs": []
    },
    {
      "cell_type": "markdown",
      "source": [
        "Напишите программу, которая решает систему из двух линейных уравнений. Уравнения напишите сами."
      ],
      "metadata": {
        "id": "t_iqBxNnizL3"
      }
    },
    {
      "cell_type": "code",
      "source": [],
      "metadata": {
        "id": "iK424I_VizL4"
      },
      "execution_count": null,
      "outputs": []
    },
    {
      "cell_type": "markdown",
      "source": [
        "Найти до четвертой функции $(5x-2)2^{-x}$."
      ],
      "metadata": {
        "id": "276nl_a6izL4"
      }
    },
    {
      "cell_type": "code",
      "source": [],
      "metadata": {
        "id": "dFh_U7ukizL4"
      },
      "execution_count": null,
      "outputs": []
    },
    {
      "cell_type": "markdown",
      "source": [
        "Найти экстремумы функции $3x^2-2-x^3$."
      ],
      "metadata": {
        "id": "phT8_06aizL4"
      }
    },
    {
      "cell_type": "code",
      "source": [],
      "metadata": {
        "id": "Fh11ghRpizL4"
      },
      "execution_count": null,
      "outputs": []
    },
    {
      "cell_type": "markdown",
      "source": [
        "# Уровень D"
      ],
      "metadata": {
        "id": "pPMeML19izaB"
      }
    },
    {
      "cell_type": "markdown",
      "source": [
        "Найти экстремумы функции $y=16x^3+12x^2+8$."
      ],
      "metadata": {
        "id": "tnxxMF1oizaC"
      }
    },
    {
      "cell_type": "code",
      "source": [],
      "metadata": {
        "id": "myOpnHhOizaC"
      },
      "execution_count": null,
      "outputs": []
    },
    {
      "cell_type": "markdown",
      "source": [
        "Найти производную n-го порядка функции $y=(2x+3)ln^2x$."
      ],
      "metadata": {
        "id": "YMYe6mmkizaC"
      }
    },
    {
      "cell_type": "code",
      "source": [],
      "metadata": {
        "id": "C_UUfZiXizaC"
      },
      "execution_count": null,
      "outputs": []
    },
    {
      "cell_type": "markdown",
      "source": [
        "Напишите калькулятор матриц."
      ],
      "metadata": {
        "id": "lB3IZdi4izaD"
      }
    },
    {
      "cell_type": "code",
      "source": [],
      "metadata": {
        "id": "Xs7rHrREizaD"
      },
      "execution_count": null,
      "outputs": []
    },
    {
      "cell_type": "markdown",
      "source": [
        "Напишите программу, которая решает систему из двух линейных уравнений. Уравнения вводяться с клавиатуры."
      ],
      "metadata": {
        "id": "--EMhOSzizaD"
      }
    },
    {
      "cell_type": "code",
      "source": [],
      "metadata": {
        "id": "pyLStBf9izaD"
      },
      "execution_count": null,
      "outputs": []
    },
    {
      "cell_type": "markdown",
      "source": [
        "Напишите программу, которая выводит трехмерный график функции $y=cosx$."
      ],
      "metadata": {
        "id": "syQZanxcizaD"
      }
    },
    {
      "cell_type": "code",
      "source": [],
      "metadata": {
        "id": "3GxnSRbzizaD"
      },
      "execution_count": null,
      "outputs": []
    },
    {
      "cell_type": "markdown",
      "source": [
        "Пример задания выше"
      ],
      "metadata": {
        "id": "kPE1D4fJCbBA"
      }
    },
    {
      "cell_type": "code",
      "source": [
        "from mpl_toolkits import mplot3d\n",
        "import numpy as np\n",
        "import matplotlib.pyplot as plt\n",
        "  \n",
        "fig = plt.figure(figsize=(8, 8))\n",
        "ax = plt.axes(projection = '3d')\n",
        "  \n",
        "# Creating array points using numpy\n",
        "# lin = np.linspace(0, 15, 1000)\n",
        "# x = np.sin(lin)\n",
        "# x = np.linspace(0, 15, 1000)\n",
        "y = np.linspace(0, 15, 1000)\n",
        "x = np.sin(y)\n",
        "z = np.cos(y)\n",
        "ax.plot3D(x, y, z, 'black')\n",
        "  \n",
        "plt.show()"
      ],
      "metadata": {
        "colab": {
          "base_uri": "https://localhost:8080/",
          "height": 466
        },
        "id": "j9uvWC_bCdtB",
        "outputId": "a16ddfc2-6303-46f6-9761-82da2bcf94fc"
      },
      "execution_count": null,
      "outputs": [
        {
          "output_type": "display_data",
          "data": {
            "text/plain": [
              "<Figure size 576x576 with 1 Axes>"
            ],
            "image/png": "[encoded data removed]"
          },
          "metadata": {
            "needs_background": "light"
          }
        }
      ]
    }
  ]
}